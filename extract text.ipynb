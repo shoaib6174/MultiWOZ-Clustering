{
 "cells": [
  {
   "cell_type": "code",
   "execution_count": 51,
   "id": "46b3bee0-9d37-4a80-9f04-6507244bb6e0",
   "metadata": {},
   "outputs": [],
   "source": [
    "import json\n",
    "import os\n",
    "import pandas as pd\n",
    "from sklearn.preprocessing import MultiLabelBinarizer\n",
    "import ast\n",
    "from sklearn.feature_extraction.text import TfidfVectorizer"
   ]
  },
  {
   "cell_type": "code",
   "execution_count": 43,
   "id": "61c5b6b9-80ef-4a04-87ca-ade6c9bd0cff",
   "metadata": {},
   "outputs": [],
   "source": [
    "def extract_intent(data):\n",
    "    for item in data:\n",
    "        for turn in item['turns']:\n",
    "\n",
    "            text = turn['utterance']\n",
    "            texts.append(text)\n"
   ]
  },
  {
   "cell_type": "code",
   "execution_count": 44,
   "id": "8271ec05-7da4-41de-863c-b3a0c3b8fc24",
   "metadata": {},
   "outputs": [],
   "source": [
    "def make_intent_csv(file_list, csv_file_name):   \n",
    "    for file in file_list:\n",
    "        with open('train/{}'.format(file)) as f:\n",
    "            data = json.load(f)\n",
    "            extract_intent(data)"
   ]
  },
  {
   "cell_type": "code",
   "execution_count": 48,
   "id": "306bb3ee-403d-4ef0-9500-d6c76683c097",
   "metadata": {},
   "outputs": [],
   "source": [
    "texts  = []\n",
    "data = 'train'\n",
    "csv_file_name = f\"{data}_intents.csv\"\n",
    "file_list = os.listdir(data)\n",
    "make_intent_csv(file_list, csv_file_name)\n",
    "df = pd.DataFrame(texts)"
   ]
  },
  {
   "cell_type": "code",
   "execution_count": 49,
   "id": "7ea8daa0-02dc-404b-9cfb-2f6c6c399bb1",
   "metadata": {},
   "outputs": [],
   "source": [
    "df.to_csv(\"texts\")"
   ]
  },
  {
   "cell_type": "code",
   "execution_count": 52,
   "id": "af5de18c-af49-40c7-a9af-1b08cfe71c5f",
   "metadata": {},
   "outputs": [],
   "source": [
    "tfidf = TfidfVectorizer()\n",
    "\n",
    "response = tfidf.fit_transform(texts)"
   ]
  },
  {
   "cell_type": "code",
   "execution_count": 64,
   "id": "f5b2f129-98fd-4990-9097-b7d0fbb58861",
   "metadata": {},
   "outputs": [],
   "source": [
    "text = texts[1]"
   ]
  },
  {
   "cell_type": "code",
   "execution_count": 65,
   "id": "b49e626e-b1f2-4b13-9e05-f66109e70365",
   "metadata": {},
   "outputs": [],
   "source": [
    "words = text.split()\n",
    "# remove punctuation from each word\n",
    "import string\n",
    "table = str.maketrans('', '', string.punctuation)\n",
    "stripped = [w.translate(table) for w in words]"
   ]
  },
  {
   "cell_type": "code",
   "execution_count": 66,
   "id": "6a8d21a0-4ba8-48a8-b136-44350cdbad41",
   "metadata": {},
   "outputs": [
    {
     "data": {
      "text/plain": [
       "['I',\n",
       " 'have',\n",
       " 'several',\n",
       " 'options',\n",
       " 'for',\n",
       " 'you',\n",
       " 'do',\n",
       " 'you',\n",
       " 'prefer',\n",
       " 'African',\n",
       " 'Asian',\n",
       " 'or',\n",
       " 'British',\n",
       " 'food']"
      ]
     },
     "execution_count": 66,
     "metadata": {},
     "output_type": "execute_result"
    }
   ],
   "source": [
    "stripped"
   ]
  },
  {
   "cell_type": "code",
   "execution_count": 57,
   "id": "fd822992-91cf-4c46-a1b5-d94415278d5f",
   "metadata": {},
   "outputs": [
    {
     "name": "stderr",
     "output_type": "stream",
     "text": [
      "ERROR: Could not find a version that satisfies the requirement bigartm (from versions: none)\n",
      "ERROR: No matching distribution found for bigartm\n"
     ]
    }
   ],
   "source": [
    "!pip install bigartm"
   ]
  },
  {
   "cell_type": "code",
   "execution_count": 68,
   "id": "c30b932f-27e6-4b1e-acca-fff5936df419",
   "metadata": {},
   "outputs": [
    {
     "name": "stdout",
     "output_type": "stream",
     "text": [
      "Collecting nltk\n",
      "  Downloading nltk-3.6.5-py3-none-any.whl (1.5 MB)\n",
      "Requirement already satisfied: joblib in c:\\python\\python396\\lib\\site-packages (from nltk) (1.0.1)\n",
      "Collecting tqdm\n",
      "  Using cached tqdm-4.62.3-py2.py3-none-any.whl (76 kB)\n",
      "Collecting regex>=2021.8.3\n",
      "  Downloading regex-2021.11.10-cp39-cp39-win_amd64.whl (273 kB)\n",
      "Requirement already satisfied: click in c:\\python\\python396\\lib\\site-packages (from nltk) (8.0.1)\n",
      "Requirement already satisfied: colorama in c:\\python\\python396\\lib\\site-packages (from click->nltk) (0.4.4)\n",
      "Installing collected packages: tqdm, regex, nltk\n",
      "Successfully installed nltk-3.6.5 regex-2021.11.10 tqdm-4.62.3\n"
     ]
    }
   ],
   "source": [
    "!pip install -U nltk"
   ]
  },
  {
   "cell_type": "code",
   "execution_count": null,
   "id": "bc9ef6ce-c282-4c97-8398-18c6c2e3a19f",
   "metadata": {},
   "outputs": [
    {
     "name": "stdout",
     "output_type": "stream",
     "text": [
      "showing info https://raw.githubusercontent.com/nltk/nltk_data/gh-pages/index.xml\n"
     ]
    }
   ],
   "source": [
    "import nltk\n",
    "nltk.download()"
   ]
  },
  {
   "cell_type": "code",
   "execution_count": null,
   "id": "fc111d09-ecdc-4665-b3b8-307310a0cc4e",
   "metadata": {},
   "outputs": [],
   "source": [
    "from nltk.tokenize import word_tokenize\n",
    "tokens = word_tokenize(text)\n",
    "# convert to lower case\n",
    "tokens = [w.lower() for w in tokens]\n",
    "# remove punctuation from each word\n",
    "import string\n",
    "table = str.maketrans('', '', string.punctuation)\n",
    "stripped = [w.translate(table) for w in tokens]\n",
    "# remove remaining tokens that are not alphabetic\n",
    "words = [word for word in stripped if word.isalpha()]\n",
    "# filter out stop words\n",
    "from nltk.corpus import stopwords\n",
    "stop_words = set(stopwords.words('english'))\n",
    "words = [w for w in words if not w in stop_words]"
   ]
  },
  {
   "cell_type": "code",
   "execution_count": null,
   "id": "9a3c4324-097d-44e1-a8a9-303dfed1f6be",
   "metadata": {},
   "outputs": [],
   "source": []
  }
 ],
 "metadata": {
  "kernelspec": {
   "display_name": "Python 3 (ipykernel)",
   "language": "python",
   "name": "python3"
  },
  "language_info": {
   "codemirror_mode": {
    "name": "ipython",
    "version": 3
   },
   "file_extension": ".py",
   "mimetype": "text/x-python",
   "name": "python",
   "nbconvert_exporter": "python",
   "pygments_lexer": "ipython3",
   "version": "3.9.6"
  }
 },
 "nbformat": 4,
 "nbformat_minor": 5
}
